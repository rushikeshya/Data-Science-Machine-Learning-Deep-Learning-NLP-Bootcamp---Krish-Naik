{
 "cells": [
  {
   "cell_type": "markdown",
   "metadata": {},
   "source": [
    "# 4.24 Real World examples using Lists in Python"
   ]
  },
  {
   "cell_type": "markdown",
   "metadata": {
    "vscode": {
     "languageId": "plaintext"
    }
   },
   "source": [
    "**List are one of the most commonaly used data structures in Python, Thanks to their versatility and ease of use.**\n",
    "- Here are several practical examples that illustrate their use in real-world scenarios."
   ]
  },
  {
   "cell_type": "markdown",
   "metadata": {},
   "source": [
    "## Example 1. Manage A To Do List \n",
    "- Create a To Do List To Keep Track Of Tasks."
   ]
  },
  {
   "cell_type": "code",
   "execution_count": 2,
   "metadata": {},
   "outputs": [
    {
     "name": "stdout",
     "output_type": "stream",
     "text": [
      "Don't Forgot to Pay Utilities Bills\n",
      "Remaining To Do Tasks: \n",
      "-Buy the Groceries\n",
      "-Pay Utilities Bills\n",
      "-Sceduale Meeting\n",
      "-Go for Run\n"
     ]
    }
   ],
   "source": [
    "to_do_list = [\"Buy the Groceries\", \"Clean the House\", \"Pay Utilities Bills\"]\n",
    "\n",
    "## Adding in to list\n",
    "to_do_list.append(\"Sceduale Meeting\")\n",
    "to_do_list.append(\"Go for Run\")\n",
    "\n",
    "## Removing Completed  from the List\n",
    "to_do_list.remove(\"Clean the House\")\n",
    "\n",
    "## Checking if the task in the List\n",
    "if  \"Pay Utilities Bills\" in to_do_list:\n",
    "    print(f\"Don't Forgot to Pay Utilities Bills\")\n",
    "\n",
    "## Checking Remaining Tasks.\n",
    "print(\"Remaining To Do Tasks: \")\n",
    "for task in to_do_list:\n",
    "    print(f\"-{task}\")\n",
    "\n"
   ]
  },
  {
   "cell_type": "markdown",
   "metadata": {},
   "source": [
    "## Example 2: Organizing student Grades\n",
    "- Create a list to store and calculate average grades for students"
   ]
  },
  {
   "cell_type": "code",
   "execution_count": 3,
   "metadata": {},
   "outputs": [
    {
     "name": "stdout",
     "output_type": "stream",
     "text": [
      "Average Grade: 88.00\n",
      "Highest Grade: 95\n",
      "Lowest Grade: 78\n"
     ]
    }
   ],
   "source": [
    "# Organizing Student Grades\n",
    "grades = [85, 92, 78, 90, 88]\n",
    "\n",
    "# Adding a new grade\n",
    "grades.append(95)\n",
    "\n",
    "# Calculating the average grade\n",
    "average_grade = sum(grades) / len(grades)\n",
    "print(f\"Average Grade: {average_grade:.2f}\")\n",
    "\n",
    "# Finding the highest and lowest grades\n",
    "highest_grade = max(grades)\n",
    "lowest_grade = min(grades)\n",
    "print(f\"Highest Grade: {highest_grade}\")\n",
    "print(f\"Lowest Grade: {lowest_grade}\")\n",
    "\n",
    "\n"
   ]
  },
  {
   "cell_type": "markdown",
   "metadata": {},
   "source": [
    "# Thank You! "
   ]
  }
 ],
 "metadata": {
  "kernelspec": {
   "display_name": "Python 3",
   "language": "python",
   "name": "python3"
  },
  "language_info": {
   "codemirror_mode": {
    "name": "ipython",
    "version": 3
   },
   "file_extension": ".py",
   "mimetype": "text/x-python",
   "name": "python",
   "nbconvert_exporter": "python",
   "pygments_lexer": "ipython3",
   "version": "3.12.3"
  }
 },
 "nbformat": 4,
 "nbformat_minor": 2
}
