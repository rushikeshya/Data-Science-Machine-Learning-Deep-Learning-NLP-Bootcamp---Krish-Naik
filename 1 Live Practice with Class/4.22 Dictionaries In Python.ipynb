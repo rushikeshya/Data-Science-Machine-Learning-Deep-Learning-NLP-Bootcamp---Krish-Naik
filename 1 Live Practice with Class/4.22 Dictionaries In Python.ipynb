{
 "cells": [
  {
   "cell_type": "markdown",
   "metadata": {},
   "source": [
    "# 4.22 Dictionaries In Python"
   ]
  },
  {
   "cell_type": "markdown",
   "metadata": {},
   "source": [
    "## Video Outline"
   ]
  },
  {
   "cell_type": "markdown",
   "metadata": {},
   "source": [
    "1. Introduction to Dictionaries\n",
    "2. Creating Dictionaries\n",
    "3. Accessing  Dictionary \n",
    "4. Modifying Dictionary Elements\n",
    "5. Dictionary Methods\n",
    "6. Iterating Over Dictionaries\n",
    "7. Nested Dictionaries\n",
    "8. Dictionary Comprehensions\n",
    "9. Practical Examples and Common Errors"
   ]
  },
  {
   "cell_type": "markdown",
   "metadata": {},
   "source": [
    "#### Introduction to Dictionaries:\n",
    "- Dictionaries are Unordered collections of items.\n",
    "- They store data in key-value pairs.\n",
    "- keys must be unique and immutable (e.g., string, numbers, or tuples), while values can be of any type.\n",
    "\n",
    "- Dictionary are mutable, so you can add, update or delete elements"
   ]
  },
  {
   "cell_type": "code",
   "execution_count": 1,
   "metadata": {},
   "outputs": [
    {
     "name": "stdout",
     "output_type": "stream",
     "text": [
      "type: <class 'dict'> = {}\n"
     ]
    }
   ],
   "source": [
    "empty_dict = {}\n",
    "print(f\"type: {type(empty_dict)} = {empty_dict}\")"
   ]
  },
  {
   "cell_type": "code",
   "execution_count": 2,
   "metadata": {},
   "outputs": [
    {
     "data": {
      "text/plain": [
       "{}"
      ]
     },
     "execution_count": 2,
     "metadata": {},
     "output_type": "execute_result"
    }
   ],
   "source": [
    "empty_dicto = dict()\n",
    "empty_dicto"
   ]
  },
  {
   "cell_type": "code",
   "execution_count": 3,
   "metadata": {},
   "outputs": [
    {
     "name": "stdout",
     "output_type": "stream",
     "text": [
      "{'name': 'Rushi', 'age': 24, 'grade': 9.36}\n"
     ]
    }
   ],
   "source": [
    "student = {\n",
    "    \"name\" : \"Rushi\",\n",
    "    \"age\" : 24,\n",
    "    \"grade\" : 9.36\n",
    "}\n",
    "print(student)"
   ]
  },
  {
   "cell_type": "code",
   "execution_count": 4,
   "metadata": {},
   "outputs": [
    {
     "name": "stdout",
     "output_type": "stream",
     "text": [
      "Rushi name\n",
      "24 age\n",
      "9.36 grade\n"
     ]
    }
   ],
   "source": [
    "# This is for both printing Key and value\n",
    "for key, value in student.items():\n",
    "    print(value, key)"
   ]
  },
  {
   "cell_type": "code",
   "execution_count": 5,
   "metadata": {},
   "outputs": [
    {
     "name": "stdout",
     "output_type": "stream",
     "text": [
      "name\n",
      "age\n",
      "grade\n"
     ]
    }
   ],
   "source": [
    "for key in student:\n",
    "    print(key)"
   ]
  },
  {
   "cell_type": "code",
   "execution_count": 6,
   "metadata": {},
   "outputs": [
    {
     "name": "stdout",
     "output_type": "stream",
     "text": [
      "name\n",
      "age\n",
      "grade\n"
     ]
    }
   ],
   "source": [
    "for key in student.keys():\n",
    "    print(key)"
   ]
  },
  {
   "cell_type": "code",
   "execution_count": 7,
   "metadata": {},
   "outputs": [
    {
     "name": "stdout",
     "output_type": "stream",
     "text": [
      "name --- Rushi\n",
      "age --- 24\n",
      "grade --- 9.36\n"
     ]
    }
   ],
   "source": [
    "for key, value in student.items():\n",
    "    print(f\"{key} --- {value}\")"
   ]
  },
  {
   "cell_type": "code",
   "execution_count": 8,
   "metadata": {},
   "outputs": [
    {
     "name": "stdout",
     "output_type": "stream",
     "text": [
      "{'name': 'Someone', 'age': 24, 'grade': 9.36}\n"
     ]
    }
   ],
   "source": [
    "# Key should be Unique\n",
    "student = {\n",
    "    \"name\" : \"Rushi\",\n",
    "    \"age\" : 24,\n",
    "    \"grade\" : 9.36,\n",
    "    \"name\" : \"Someone\"\n",
    "}\n",
    "print(student)"
   ]
  },
  {
   "cell_type": "markdown",
   "metadata": {},
   "source": [
    "#### Accessing Dictionary Elements"
   ]
  },
  {
   "cell_type": "code",
   "execution_count": 9,
   "metadata": {},
   "outputs": [
    {
     "name": "stdout",
     "output_type": "stream",
     "text": [
      "{'name': 'Rushi', 'age': 24, 'grade': 9.36}\n",
      "9.36\n",
      "24\n"
     ]
    }
   ],
   "source": [
    "student = {\n",
    "    \"name\" : \"Rushi\",\n",
    "    \"age\" : 24,\n",
    "    \"grade\" : 9.36\n",
    "}\n",
    "print(student)\n",
    "\n",
    "# Accessing Dictionary Elements     \n",
    "print(student['grade'])\n",
    "print(student['age'])"
   ]
  },
  {
   "cell_type": "code",
   "execution_count": 10,
   "metadata": {},
   "outputs": [
    {
     "name": "stdout",
     "output_type": "stream",
     "text": [
      "9.36\n",
      "None\n",
      "Rushi\n",
      "Yadav\n"
     ]
    }
   ],
   "source": [
    "## Accessing using get() method\n",
    "print(student.get('grade'))\n",
    "print(student.get('last_name'))\n",
    "print(student.get('name'))\n",
    "print(student.get('last_name',\"Yadav\"))"
   ]
  },
  {
   "cell_type": "code",
   "execution_count": 11,
   "metadata": {},
   "outputs": [
    {
     "name": "stdout",
     "output_type": "stream",
     "text": [
      "None\n"
     ]
    }
   ],
   "source": [
    "print(student.get('last_name'))"
   ]
  },
  {
   "cell_type": "markdown",
   "metadata": {},
   "source": [
    "#### Modifying Dictionary Elements:\n",
    "- Dictionary are mutable, so you can add, update or delete elements"
   ]
  },
  {
   "cell_type": "code",
   "execution_count": 22,
   "metadata": {},
   "outputs": [
    {
     "name": "stdout",
     "output_type": "stream",
     "text": [
      "{'name': 'Rushi', 'age': 24, 'grade': 9.36}\n"
     ]
    }
   ],
   "source": [
    "student = {\n",
    "    \"name\" : \"Rushi\",\n",
    "    \"age\" : 24,\n",
    "    \"grade\" : 9.36\n",
    "}\n",
    "print(student)"
   ]
  },
  {
   "cell_type": "code",
   "execution_count": 27,
   "metadata": {},
   "outputs": [
    {
     "name": "stdout",
     "output_type": "stream",
     "text": [
      "{'name': 'Rushi', 'age': 25, 'grade': 9.36}\n",
      "{'name': 'Rushi', 'age': 25, 'grade': 9.36, 'adress': 'India'}\n"
     ]
    }
   ],
   "source": [
    "# Updating Key's Value\n",
    "student[\"age\"] = 25\n",
    "print(student)\n",
    "\n",
    "# adding new Key\n",
    "student[\"adress\"] = \"India\"\n",
    "print(student)"
   ]
  },
  {
   "cell_type": "code",
   "execution_count": 24,
   "metadata": {},
   "outputs": [
    {
     "name": "stdout",
     "output_type": "stream",
     "text": [
      "{'name': 'Rushi', 'age': 25, 'adress': 'India'}\n"
     ]
    }
   ],
   "source": [
    "# Deleting Key\n",
    "student.pop((\"grade\"))\n",
    "print(student)"
   ]
  },
  {
   "cell_type": "code",
   "execution_count": null,
   "metadata": {},
   "outputs": [
    {
     "name": "stdout",
     "output_type": "stream",
     "text": [
      "{'name': 'Rushi', 'adress': 'India'}\n"
     ]
    }
   ],
   "source": [
    "# Deleting with del ---- key and value pair\n",
    "del student[\"age\"]\n",
    "print(student)"
   ]
  },
  {
   "cell_type": "code",
   "execution_count": 31,
   "metadata": {},
   "outputs": [
    {
     "name": "stdout",
     "output_type": "stream",
     "text": [
      "{'name': 'Rushi', 'age': 24, 'grade': 9.36}\n",
      "{'name': 'Rushi', 'age': 25, 'grade': 9.36}\n",
      "{'name': 'Rushi', 'age': 25, 'grade': 9.36, 'adress': 'India'}\n"
     ]
    }
   ],
   "source": [
    "student = {\n",
    "    \"name\" : \"Rushi\",\n",
    "    \"age\" : 24,\n",
    "    \"grade\" : 9.36\n",
    "}\n",
    "print(student)\n",
    "\n",
    "# Updating Key's Value\n",
    "student[\"age\"] = 25\n",
    "print(student)\n",
    "\n",
    "# adding new Key\n",
    "student[\"adress\"] = \"India\"\n",
    "print(student)"
   ]
  },
  {
   "cell_type": "code",
   "execution_count": 32,
   "metadata": {},
   "outputs": [
    {
     "name": "stdout",
     "output_type": "stream",
     "text": [
      "{'name': 'Rushi', 'age': 25, 'grade': 9.36, 'adress': 'India'}\n"
     ]
    }
   ],
   "source": [
    "print(student)"
   ]
  },
  {
   "cell_type": "markdown",
   "metadata": {},
   "source": [
    "#### Dictionary Methods"
   ]
  },
  {
   "cell_type": "code",
   "execution_count": 36,
   "metadata": {},
   "outputs": [
    {
     "name": "stdout",
     "output_type": "stream",
     "text": [
      "dict_keys(['name', 'age', 'grade', 'adress'])\n",
      "<class 'dict_keys'>\n",
      "dict_values(['Rushi', 25, 9.36, 'India'])\n",
      "<class 'dict_values'>\n"
     ]
    }
   ],
   "source": [
    "keys = student.keys()\n",
    "print(keys)\n",
    "print(type(keys))\n",
    "\n",
    "values = student.values()\n",
    "print(values)\n",
    "print(type(values))"
   ]
  },
  {
   "cell_type": "code",
   "execution_count": 37,
   "metadata": {},
   "outputs": [
    {
     "name": "stdout",
     "output_type": "stream",
     "text": [
      "dict_items([('name', 'Rushi'), ('age', 25), ('grade', 9.36), ('adress', 'India')])\n"
     ]
    }
   ],
   "source": [
    "# items()\n",
    "items = student.items()\n",
    "print(items)"
   ]
  },
  {
   "cell_type": "markdown",
   "metadata": {},
   "source": [
    "#### shallow copy"
   ]
  },
  {
   "cell_type": "code",
   "execution_count": 40,
   "metadata": {},
   "outputs": [
    {
     "name": "stdout",
     "output_type": "stream",
     "text": [
      "{'name': 'Rushi', 'age': 25, 'grade': 9.36, 'adress': 'India'}\n",
      "{'name': 'Rushi', 'age': 25, 'grade': 9.36, 'adress': 'India'}\n"
     ]
    }
   ],
   "source": [
    "## shollw copy\n",
    "student_copy = student\n",
    "print(student)\n",
    "print(student_copy)"
   ]
  },
  {
   "cell_type": "code",
   "execution_count": 41,
   "metadata": {},
   "outputs": [
    {
     "name": "stdout",
     "output_type": "stream",
     "text": [
      "{'name': 'Rushi1', 'age': 25, 'grade': 9.36, 'adress': 'India'}\n",
      "{'name': 'Rushi1', 'age': 25, 'grade': 9.36, 'adress': 'India'}\n"
     ]
    }
   ],
   "source": [
    "student['name'] = \"Rushi1\"\n",
    "print(student)\n",
    "print(student_copy)"
   ]
  },
  {
   "cell_type": "code",
   "execution_count": 42,
   "metadata": {},
   "outputs": [
    {
     "name": "stdout",
     "output_type": "stream",
     "text": [
      "{'name': 'Rushi1', 'age': 25, 'grade': 9.36, 'adress': 'India'}\n"
     ]
    }
   ],
   "source": [
    "student_copy1 = student.copy()  ## Shallow Copy\n",
    "print(student_copy1)"
   ]
  },
  {
   "cell_type": "code",
   "execution_count": 43,
   "metadata": {},
   "outputs": [
    {
     "name": "stdout",
     "output_type": "stream",
     "text": [
      "{'name': 'RUSHI2', 'age': 25, 'grade': 9.36, 'adress': 'India'}\n",
      "{'name': 'Rushi1', 'age': 25, 'grade': 9.36, 'adress': 'India'}\n"
     ]
    }
   ],
   "source": [
    "student[\"name\"] = \"RUSHI2\"\n",
    "print(student)\n",
    "print(student_copy1)"
   ]
  },
  {
   "cell_type": "code",
   "execution_count": 44,
   "metadata": {},
   "outputs": [
    {
     "name": "stdout",
     "output_type": "stream",
     "text": [
      "name\n",
      "age\n",
      "grade\n",
      "adress\n"
     ]
    }
   ],
   "source": [
    "### Iterating Over Dictionaries\n",
    "## You can use loops to Iterate over dictionries, keys, values, or items\n",
    "\n",
    "## Iterating over keys\n",
    "for key in student.keys():\n",
    "    print(key)"
   ]
  },
  {
   "cell_type": "code",
   "execution_count": null,
   "metadata": {},
   "outputs": [],
   "source": []
  }
 ],
 "metadata": {
  "kernelspec": {
   "display_name": "Python 3",
   "language": "python",
   "name": "python3"
  },
  "language_info": {
   "codemirror_mode": {
    "name": "ipython",
    "version": 3
   },
   "file_extension": ".py",
   "mimetype": "text/x-python",
   "name": "python",
   "nbconvert_exporter": "python",
   "pygments_lexer": "ipython3",
   "version": "3.12.3"
  }
 },
 "nbformat": 4,
 "nbformat_minor": 2
}
