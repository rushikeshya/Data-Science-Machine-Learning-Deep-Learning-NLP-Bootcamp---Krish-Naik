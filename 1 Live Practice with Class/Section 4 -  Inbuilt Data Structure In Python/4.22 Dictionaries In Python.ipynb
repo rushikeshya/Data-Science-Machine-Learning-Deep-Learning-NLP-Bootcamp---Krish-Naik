{
 "cells": [
  {
   "cell_type": "markdown",
   "metadata": {},
   "source": [
    "# 4.22 Dictionaries In Python"
   ]
  },
  {
   "cell_type": "markdown",
   "metadata": {},
   "source": [
    "## Video Outline"
   ]
  },
  {
   "cell_type": "markdown",
   "metadata": {},
   "source": [
    "1. Introduction to Dictionaries\n",
    "2. Creating Dictionaries\n",
    "3. Accessing  Dictionary \n",
    "4. Modifying Dictionary Elements\n",
    "5. Dictionary Methods\n",
    "6. Iterating Over Dictionaries\n",
    "7. Nested Dictionaries\n",
    "8. Dictionary Comprehensions\n",
    "9. Practical Examples and Common Errors"
   ]
  },
  {
   "cell_type": "markdown",
   "metadata": {},
   "source": [
    "#### Introduction to Dictionaries:\n",
    "- Dictionaries are Unordered collections of items.\n",
    "- They store data in key-value pairs.\n",
    "- keys must be unique and immutable (e.g., string, numbers, or tuples), while values can be of any type.\n",
    "\n",
    "- Dictionary are mutable, so you can add, update or delete elements"
   ]
  },
  {
   "cell_type": "code",
   "execution_count": 1,
   "metadata": {},
   "outputs": [
    {
     "name": "stdout",
     "output_type": "stream",
     "text": [
      "type: <class 'dict'> = {}\n"
     ]
    }
   ],
   "source": [
    "empty_dict = {}\n",
    "print(f\"type: {type(empty_dict)} = {empty_dict}\")"
   ]
  },
  {
   "cell_type": "code",
   "execution_count": 2,
   "metadata": {},
   "outputs": [
    {
     "data": {
      "text/plain": [
       "{}"
      ]
     },
     "execution_count": 2,
     "metadata": {},
     "output_type": "execute_result"
    }
   ],
   "source": [
    "empty_dicto = dict()\n",
    "empty_dicto"
   ]
  },
  {
   "cell_type": "code",
   "execution_count": 3,
   "metadata": {},
   "outputs": [
    {
     "name": "stdout",
     "output_type": "stream",
     "text": [
      "{'name': 'Rushi', 'age': 24, 'grade': 9.36}\n"
     ]
    }
   ],
   "source": [
    "student = {\n",
    "    \"name\" : \"Rushi\",\n",
    "    \"age\" : 24,\n",
    "    \"grade\" : 9.36\n",
    "}\n",
    "print(student)"
   ]
  },
  {
   "cell_type": "code",
   "execution_count": 4,
   "metadata": {},
   "outputs": [
    {
     "name": "stdout",
     "output_type": "stream",
     "text": [
      "Rushi name\n",
      "24 age\n",
      "9.36 grade\n"
     ]
    }
   ],
   "source": [
    "# This is for both printing Key and value\n",
    "for key, value in student.items():\n",
    "    print(value, key)"
   ]
  },
  {
   "cell_type": "code",
   "execution_count": 5,
   "metadata": {},
   "outputs": [
    {
     "name": "stdout",
     "output_type": "stream",
     "text": [
      "name\n",
      "age\n",
      "grade\n"
     ]
    }
   ],
   "source": [
    "for key in student:\n",
    "    print(key)"
   ]
  },
  {
   "cell_type": "code",
   "execution_count": 6,
   "metadata": {},
   "outputs": [
    {
     "name": "stdout",
     "output_type": "stream",
     "text": [
      "name\n",
      "age\n",
      "grade\n"
     ]
    }
   ],
   "source": [
    "for key in student.keys():\n",
    "    print(key)"
   ]
  },
  {
   "cell_type": "code",
   "execution_count": 7,
   "metadata": {},
   "outputs": [
    {
     "name": "stdout",
     "output_type": "stream",
     "text": [
      "name --- Rushi\n",
      "age --- 24\n",
      "grade --- 9.36\n"
     ]
    }
   ],
   "source": [
    "for key, value in student.items():\n",
    "    print(f\"{key} --- {value}\")"
   ]
  },
  {
   "cell_type": "code",
   "execution_count": 8,
   "metadata": {},
   "outputs": [
    {
     "name": "stdout",
     "output_type": "stream",
     "text": [
      "{'name': 'Someone', 'age': 24, 'grade': 9.36}\n"
     ]
    }
   ],
   "source": [
    "# Key should be Unique\n",
    "student = {\n",
    "    \"name\" : \"Rushi\",\n",
    "    \"age\" : 24,\n",
    "    \"grade\" : 9.36,\n",
    "    \"name\" : \"Someone\"\n",
    "}\n",
    "print(student)"
   ]
  },
  {
   "cell_type": "markdown",
   "metadata": {},
   "source": [
    "#### Accessing Dictionary Elements"
   ]
  },
  {
   "cell_type": "code",
   "execution_count": 9,
   "metadata": {},
   "outputs": [
    {
     "name": "stdout",
     "output_type": "stream",
     "text": [
      "{'name': 'Rushi', 'age': 24, 'grade': 9.36}\n",
      "9.36\n",
      "24\n"
     ]
    }
   ],
   "source": [
    "student = {\n",
    "    \"name\" : \"Rushi\",\n",
    "    \"age\" : 24,\n",
    "    \"grade\" : 9.36\n",
    "}\n",
    "print(student)\n",
    "\n",
    "# Accessing Dictionary Elements     \n",
    "print(student['grade'])\n",
    "print(student['age'])"
   ]
  },
  {
   "cell_type": "code",
   "execution_count": 10,
   "metadata": {},
   "outputs": [
    {
     "name": "stdout",
     "output_type": "stream",
     "text": [
      "9.36\n",
      "None\n",
      "Rushi\n",
      "Yadav\n"
     ]
    }
   ],
   "source": [
    "## Accessing using get() method\n",
    "print(student.get('grade'))\n",
    "print(student.get('last_name'))\n",
    "print(student.get('name'))\n",
    "print(student.get('last_name',\"Yadav\"))"
   ]
  },
  {
   "cell_type": "code",
   "execution_count": 11,
   "metadata": {},
   "outputs": [
    {
     "name": "stdout",
     "output_type": "stream",
     "text": [
      "None\n"
     ]
    }
   ],
   "source": [
    "print(student.get('last_name'))"
   ]
  },
  {
   "cell_type": "markdown",
   "metadata": {},
   "source": [
    "#### Modifying Dictionary Elements:\n",
    "- Dictionary are mutable, so you can add, update or delete elements"
   ]
  },
  {
   "cell_type": "code",
   "execution_count": 12,
   "metadata": {},
   "outputs": [
    {
     "name": "stdout",
     "output_type": "stream",
     "text": [
      "{'name': 'Rushi', 'age': 24, 'grade': 9.36}\n"
     ]
    }
   ],
   "source": [
    "student = {\n",
    "    \"name\" : \"Rushi\",\n",
    "    \"age\" : 24,\n",
    "    \"grade\" : 9.36\n",
    "}\n",
    "print(student)"
   ]
  },
  {
   "cell_type": "code",
   "execution_count": 13,
   "metadata": {},
   "outputs": [
    {
     "name": "stdout",
     "output_type": "stream",
     "text": [
      "{'name': 'Rushi', 'age': 25, 'grade': 9.36}\n",
      "{'name': 'Rushi', 'age': 25, 'grade': 9.36, 'adress': 'India'}\n"
     ]
    }
   ],
   "source": [
    "# Updating Key's Value\n",
    "student[\"age\"] = 25\n",
    "print(student)\n",
    "\n",
    "# adding new Key\n",
    "student[\"adress\"] = \"India\"\n",
    "print(student)"
   ]
  },
  {
   "cell_type": "code",
   "execution_count": 14,
   "metadata": {},
   "outputs": [
    {
     "name": "stdout",
     "output_type": "stream",
     "text": [
      "{'name': 'Rushi', 'age': 25, 'adress': 'India'}\n"
     ]
    }
   ],
   "source": [
    "# Deleting Key\n",
    "student.pop((\"grade\"))\n",
    "print(student)"
   ]
  },
  {
   "cell_type": "code",
   "execution_count": 15,
   "metadata": {},
   "outputs": [
    {
     "name": "stdout",
     "output_type": "stream",
     "text": [
      "{'name': 'Rushi', 'adress': 'India'}\n"
     ]
    }
   ],
   "source": [
    "# Deleting with del ---- key and value pair\n",
    "del student[\"age\"]\n",
    "print(student)"
   ]
  },
  {
   "cell_type": "code",
   "execution_count": 16,
   "metadata": {},
   "outputs": [
    {
     "name": "stdout",
     "output_type": "stream",
     "text": [
      "{'name': 'Rushi', 'age': 24, 'grade': 9.36}\n",
      "{'name': 'Rushi', 'age': 25, 'grade': 9.36}\n",
      "{'name': 'Rushi', 'age': 25, 'grade': 9.36, 'adress': 'India'}\n"
     ]
    }
   ],
   "source": [
    "student = {\n",
    "    \"name\" : \"Rushi\",\n",
    "    \"age\" : 24,\n",
    "    \"grade\" : 9.36\n",
    "}\n",
    "print(student)\n",
    "\n",
    "# Updating Key's Value\n",
    "student[\"age\"] = 25\n",
    "print(student)\n",
    "\n",
    "# adding new Key\n",
    "student[\"adress\"] = \"India\"\n",
    "print(student)"
   ]
  },
  {
   "cell_type": "code",
   "execution_count": 17,
   "metadata": {},
   "outputs": [
    {
     "name": "stdout",
     "output_type": "stream",
     "text": [
      "{'name': 'Rushi', 'age': 25, 'grade': 9.36, 'adress': 'India'}\n"
     ]
    }
   ],
   "source": [
    "print(student)"
   ]
  },
  {
   "cell_type": "markdown",
   "metadata": {},
   "source": [
    "#### Dictionary Methods"
   ]
  },
  {
   "cell_type": "code",
   "execution_count": 18,
   "metadata": {},
   "outputs": [
    {
     "name": "stdout",
     "output_type": "stream",
     "text": [
      "dict_keys(['name', 'age', 'grade', 'adress'])\n",
      "<class 'dict_keys'>\n",
      "dict_values(['Rushi', 25, 9.36, 'India'])\n",
      "<class 'dict_values'>\n"
     ]
    }
   ],
   "source": [
    "keys = student.keys()\n",
    "print(keys)\n",
    "print(type(keys))\n",
    "\n",
    "values = student.values()\n",
    "print(values)\n",
    "print(type(values))"
   ]
  },
  {
   "cell_type": "code",
   "execution_count": 19,
   "metadata": {},
   "outputs": [
    {
     "name": "stdout",
     "output_type": "stream",
     "text": [
      "dict_items([('name', 'Rushi'), ('age', 25), ('grade', 9.36), ('adress', 'India')])\n"
     ]
    }
   ],
   "source": [
    "# items()\n",
    "items = student.items()\n",
    "print(items)"
   ]
  },
  {
   "cell_type": "markdown",
   "metadata": {},
   "source": [
    "#### shallow copy"
   ]
  },
  {
   "cell_type": "code",
   "execution_count": 20,
   "metadata": {},
   "outputs": [
    {
     "name": "stdout",
     "output_type": "stream",
     "text": [
      "{'name': 'Rushi', 'age': 25, 'grade': 9.36, 'adress': 'India'}\n",
      "{'name': 'Rushi', 'age': 25, 'grade': 9.36, 'adress': 'India'}\n"
     ]
    }
   ],
   "source": [
    "## shollw copy\n",
    "student_copy = student\n",
    "print(student)\n",
    "print(student_copy)"
   ]
  },
  {
   "cell_type": "code",
   "execution_count": 21,
   "metadata": {},
   "outputs": [
    {
     "name": "stdout",
     "output_type": "stream",
     "text": [
      "{'name': 'Rushi1', 'age': 25, 'grade': 9.36, 'adress': 'India'}\n",
      "{'name': 'Rushi1', 'age': 25, 'grade': 9.36, 'adress': 'India'}\n"
     ]
    }
   ],
   "source": [
    "student['name'] = \"Rushi1\"\n",
    "print(student)\n",
    "print(student_copy)"
   ]
  },
  {
   "cell_type": "code",
   "execution_count": 22,
   "metadata": {},
   "outputs": [
    {
     "name": "stdout",
     "output_type": "stream",
     "text": [
      "{'name': 'Rushi1', 'age': 25, 'grade': 9.36, 'adress': 'India'}\n"
     ]
    }
   ],
   "source": [
    "student_copy1 = student.copy()  ## Shallow Copy\n",
    "print(student_copy1)"
   ]
  },
  {
   "cell_type": "code",
   "execution_count": 23,
   "metadata": {},
   "outputs": [
    {
     "name": "stdout",
     "output_type": "stream",
     "text": [
      "{'name': 'RUSHI2', 'age': 25, 'grade': 9.36, 'adress': 'India'}\n",
      "{'name': 'Rushi1', 'age': 25, 'grade': 9.36, 'adress': 'India'}\n"
     ]
    }
   ],
   "source": [
    "student[\"name\"] = \"RUSHI2\"\n",
    "print(student)\n",
    "print(student_copy1)"
   ]
  },
  {
   "cell_type": "code",
   "execution_count": 24,
   "metadata": {},
   "outputs": [
    {
     "name": "stdout",
     "output_type": "stream",
     "text": [
      "name\n",
      "age\n",
      "grade\n",
      "adress\n"
     ]
    }
   ],
   "source": [
    "### Iterating Over Dictionaries\n",
    "## You can use loops to Iterate over dictionries, keys, values, or items\n",
    "\n",
    "## Iterating over keys\n",
    "for key in student.keys():\n",
    "    print(key)"
   ]
  },
  {
   "cell_type": "code",
   "execution_count": 25,
   "metadata": {},
   "outputs": [
    {
     "name": "stdout",
     "output_type": "stream",
     "text": [
      "RUSHI2\n",
      "25\n",
      "9.36\n",
      "India\n"
     ]
    }
   ],
   "source": [
    "## Iterate over Values\n",
    "for value in student.values():\n",
    "    print(value)"
   ]
  },
  {
   "cell_type": "code",
   "execution_count": 26,
   "metadata": {},
   "outputs": [
    {
     "name": "stdout",
     "output_type": "stream",
     "text": [
      "name : RUSHI2\n",
      "age : 25\n",
      "grade : 9.36\n",
      "adress : India\n"
     ]
    }
   ],
   "source": [
    "## Iterate Over Key:Value Pair\n",
    "\n",
    "for key, value in student.items():\n",
    "    print(f\"{key} : {value}\")"
   ]
  },
  {
   "cell_type": "markdown",
   "metadata": {},
   "source": [
    "## Nested Dictionaies"
   ]
  },
  {
   "cell_type": "code",
   "execution_count": 27,
   "metadata": {},
   "outputs": [
    {
     "name": "stdout",
     "output_type": "stream",
     "text": [
      "{'student1': {'name': 'Rushi', 'age': 24}, 'student2': {'name': 'Yadav', 'age': 25}}\n",
      "Yadav\n"
     ]
    }
   ],
   "source": [
    "## Nested Dictionaries\n",
    "students = {\n",
    "    \"student1\" : {\"name\":\"Rushi\", \"age\" : 24},\n",
    "    \"student2\" : {\"name\" : \"Yadav\", \"age\" : 25}\n",
    "}\n",
    "print(students)\n",
    "print(students.get(\"student2\").get(\"name\"))"
   ]
  },
  {
   "cell_type": "code",
   "execution_count": 28,
   "metadata": {},
   "outputs": [
    {
     "name": "stdout",
     "output_type": "stream",
     "text": [
      "student1\n",
      "{'name': 'Rushi', 'age': 24}\n",
      "student2\n",
      "{'name': 'Yadav', 'age': 25}\n"
     ]
    }
   ],
   "source": [
    "for sub_dict in students.items():\n",
    "    for key_value in sub_dict:\n",
    "        print(key_value)"
   ]
  },
  {
   "cell_type": "code",
   "execution_count": 33,
   "metadata": {},
   "outputs": [
    {
     "name": "stdout",
     "output_type": "stream",
     "text": [
      "Yadav\n",
      "25\n"
     ]
    }
   ],
   "source": [
    "## Access nested dictionaries Elements\n",
    "print(students[\"student2\"][\"name\"])\n",
    "print(students[\"student2\"][\"age\"])"
   ]
  },
  {
   "cell_type": "code",
   "execution_count": 42,
   "metadata": {},
   "outputs": [
    {
     "name": "stdout",
     "output_type": "stream",
     "text": [
      "student1 : {'name': 'Rushi', 'age': 24}\n",
      "name : Rushi\n",
      "age : 24\n",
      "student2 : {'name': 'Yadav', 'age': 25}\n",
      "name : Yadav\n",
      "age : 25\n"
     ]
    }
   ],
   "source": [
    "## Iterating over nested dictionary\n",
    "for student_id, student_info in students.items():\n",
    "    print(f\"{student_id} : {student_info}\")\n",
    "    for key,value in student_info.items():\n",
    "        print(f\"{key} : {value}\")"
   ]
  },
  {
   "cell_type": "code",
   "execution_count": 38,
   "metadata": {},
   "outputs": [
    {
     "data": {
      "text/plain": [
       "dict_values([{'name': 'Rushi', 'age': 24}, {'name': 'Yadav', 'age': 25}])"
      ]
     },
     "execution_count": 38,
     "metadata": {},
     "output_type": "execute_result"
    }
   ],
   "source": [
    "students.values()"
   ]
  },
  {
   "cell_type": "code",
   "execution_count": 46,
   "metadata": {},
   "outputs": [
    {
     "name": "stdout",
     "output_type": "stream",
     "text": [
      "student1 : {'name': 'Rushi', 'age': 24}\n",
      "name : Rushi\n",
      "age : 24\n",
      "student2 : {'name': 'Yadav', 'age': 25}\n",
      "name : Yadav\n",
      "age : 25\n"
     ]
    }
   ],
   "source": [
    "for student_id, student_info in students.items():\n",
    "    print(f\"{student_id} : {student_info}\")\n",
    "    for key, value in student_info.items():\n",
    "        print(f\"{key} : {value}\")"
   ]
  },
  {
   "cell_type": "code",
   "execution_count": null,
   "metadata": {},
   "outputs": [
    {
     "name": "stdout",
     "output_type": "stream",
     "text": [
      "{64, 1, 4, 36, 100, 9, 16, 49, 81, 25}\n",
      "<class 'set'>\n"
     ]
    }
   ],
   "source": [
    "### Dictionay Comprehension\n",
    "\n",
    "# sqaures\n",
    "squares = { x ** 2 for x in range(1,11) }\n",
    "print(squares)\n",
    "print(type(squares))    # It shows set type... and it in unordered collections of Items"
   ]
  },
  {
   "cell_type": "code",
   "execution_count": null,
   "metadata": {},
   "outputs": [
    {
     "name": "stdout",
     "output_type": "stream",
     "text": [
      "{1: 1, 2: 4, 3: 9, 4: 16, 5: 25, 6: 36, 7: 49, 8: 64, 9: 81, 10: 100}\n",
      "<class 'dict'>\n"
     ]
    }
   ],
   "source": [
    "# for dictionary we can write code here:\n",
    "squares = {x:x**2 for x in range(1,11)}\n",
    "print(squares)\n",
    "print(type(squares))    # Dict: and it it ordered collection of an items"
   ]
  },
  {
   "cell_type": "code",
   "execution_count": 52,
   "metadata": {},
   "outputs": [
    {
     "name": "stdout",
     "output_type": "stream",
     "text": [
      "{2: 2, 4: 4, 6: 6, 8: 8, 10: 10}\n",
      "<class 'dict'>\n"
     ]
    }
   ],
   "source": [
    "even_number = {num : num for num in range(1,11) if num%2 == 0 }\n",
    "print(even_number)\n",
    "print(type(even_number))"
   ]
  },
  {
   "cell_type": "code",
   "execution_count": 55,
   "metadata": {},
   "outputs": [
    {
     "name": "stdout",
     "output_type": "stream",
     "text": [
      "{1: 1, 3: 3, 5: 5, 7: 7, 9: 9}\n",
      "<class 'dict'>\n"
     ]
    }
   ],
   "source": [
    "odd_number = {num : num for num in range(1,11) if num % 2 != 0}\n",
    "print(odd_number)\n",
    "print(type(odd_number))"
   ]
  },
  {
   "cell_type": "code",
   "execution_count": 57,
   "metadata": {},
   "outputs": [
    {
     "name": "stdout",
     "output_type": "stream",
     "text": [
      "{2: 4, 4: 16, 6: 36, 8: 64, 10: 100}\n",
      "<class 'dict'>\n"
     ]
    }
   ],
   "source": [
    "## Squares for only even numbers\n",
    "even_sq = {num: num**2 for num in range(1,11) if num % 2 == 0}\n",
    "print(even_sq)\n",
    "print(type(even_sq))"
   ]
  },
  {
   "cell_type": "markdown",
   "metadata": {},
   "source": [
    "### Practical Examples:"
   ]
  },
  {
   "cell_type": "code",
   "execution_count": 61,
   "metadata": {},
   "outputs": [
    {
     "name": "stdout",
     "output_type": "stream",
     "text": [
      "{1: 1, 2: 2, 3: 3, 4: 4}\n"
     ]
    }
   ],
   "source": [
    "## que 1: Use a dictionary to count the frequency of elements in list\n",
    "\n",
    "numbers = [1,2,2,3,3,3,4,4,4,4]\n",
    "frequency = {}\n",
    "\n",
    "for num in numbers:\n",
    "    if num in frequency:\n",
    "        frequency[num] += 1\n",
    "    else:\n",
    "        frequency[num] = 1\n",
    "print(frequency)\n"
   ]
  },
  {
   "cell_type": "code",
   "execution_count": 63,
   "metadata": {},
   "outputs": [
    {
     "name": "stdout",
     "output_type": "stream",
     "text": [
      "{1: 3, 2: 1, 4: 3, 5: 2, 6: 1, 7: 4, 8: 1}\n"
     ]
    }
   ],
   "source": [
    "num1 = [1,1,2,4,5,4,4,5,6,7,7,7,7,8,1]\n",
    "freq = {}\n",
    "\n",
    "for n in num1:\n",
    "    if n in freq:\n",
    "        freq[n] += 1\n",
    "    else:\n",
    "        freq[n] = 1\n",
    "print(freq)"
   ]
  },
  {
   "cell_type": "code",
   "execution_count": 64,
   "metadata": {},
   "outputs": [
    {
     "name": "stdout",
     "output_type": "stream",
     "text": [
      "{'a': 1, 'b': 2, 'c': 3, 'd': 4}\n"
     ]
    }
   ],
   "source": [
    "## que 2: Merge 2 dictionaries into one\n",
    "\n",
    "dict1 = {\"a\":1, \"b\":2}\n",
    "dict2 = {\"c\":3, \"d\":4}\n",
    "\n",
    "merged_dict = {**dict1, **dict2}  ## Keyword arguments\n",
    "print(merged_dict)\n"
   ]
  },
  {
   "cell_type": "markdown",
   "metadata": {},
   "source": [
    "# Thank You!"
   ]
  }
 ],
 "metadata": {
  "kernelspec": {
   "display_name": "Python 3",
   "language": "python",
   "name": "python3"
  },
  "language_info": {
   "codemirror_mode": {
    "name": "ipython",
    "version": 3
   },
   "file_extension": ".py",
   "mimetype": "text/x-python",
   "name": "python",
   "nbconvert_exporter": "python",
   "pygments_lexer": "ipython3",
   "version": "3.12.3"
  }
 },
 "nbformat": 4,
 "nbformat_minor": 2
}
