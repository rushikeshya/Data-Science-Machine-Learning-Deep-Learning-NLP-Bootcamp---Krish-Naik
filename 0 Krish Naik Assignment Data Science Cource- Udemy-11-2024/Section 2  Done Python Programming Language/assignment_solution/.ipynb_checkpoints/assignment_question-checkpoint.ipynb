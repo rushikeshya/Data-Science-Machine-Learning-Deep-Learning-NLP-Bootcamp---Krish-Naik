{
 "cells": [
  {
   "cell_type": "markdown",
   "metadata": {},
   "source": [
    "# Lesson 1.2: Python Basics\n",
    "## Topics Covered:\n",
    "- Syntax and Semantics\n",
    "- Variables and Data Types\n",
    "- Basic Operators (Arithmetic, Comparison, Logical)\n"
   ]
  },
  {
   "cell_type": "markdown",
   "metadata": {},
   "source": [
    "## 1. Syntax and Semantics\n",
    "\n",
    "**Question 1:** Write a Python program to print \"Hello, World!\"."
   ]
  },
  {
   "cell_type": "code",
   "execution_count": 1,
   "metadata": {},
   "outputs": [
    {
     "name": "stdout",
     "output_type": "stream",
     "text": [
      "Hello, World!\n"
     ]
    }
   ],
   "source": [
    "# Your code here\n",
    "print(\"Hello, World!\")"
   ]
  },
  {
   "cell_type": "markdown",
   "metadata": {},
   "source": [
    "**Question 2:** Write a Python program that takes a user input and prints it."
   ]
  },
  {
   "cell_type": "code",
   "execution_count": 2,
   "metadata": {},
   "outputs": [
    {
     "name": "stdin",
     "output_type": "stream",
     "text": [
      "Please Enter Your Name: Rushikesh\n"
     ]
    },
    {
     "name": "stdout",
     "output_type": "stream",
     "text": [
      "Rushikesh\n"
     ]
    }
   ],
   "source": [
    "# Your code here\n",
    "name = input(\"Please Enter Your Name:\")\n",
    "print(name)"
   ]
  },
  {
   "cell_type": "markdown",
   "metadata": {},
   "source": [
    "**Question 3:** Write a Python program to check if a number is positive, negative, or zero."
   ]
  },
  {
   "cell_type": "code",
   "execution_count": 3,
   "metadata": {},
   "outputs": [
    {
     "name": "stdin",
     "output_type": "stream",
     "text": [
      "Enter The Number:  5\n"
     ]
    },
    {
     "name": "stdout",
     "output_type": "stream",
     "text": [
      "Number is Positive\n"
     ]
    }
   ],
   "source": [
    "# Your code here\n",
    "Number = int(input(\"Enter The Number: \"))\n",
    "if Number > 0:\n",
    "    print(\"Number is Positive\")\n",
    "elif Number < 0:\n",
    "    print(\"Number is Negative\")\n",
    "else:\n",
    "    print(\"Zero\")"
   ]
  },
  {
   "cell_type": "markdown",
   "metadata": {},
   "source": [
    "**Question 4:** Write a Python program to find the largest of three numbers."
   ]
  },
  {
   "cell_type": "code",
   "execution_count": 4,
   "metadata": {},
   "outputs": [
    {
     "name": "stdin",
     "output_type": "stream",
     "text": [
      "Enter the First Number:  5\n",
      "Enter the Second Number:  6\n",
      "Enter the Third Number:  2\n"
     ]
    },
    {
     "name": "stdout",
     "output_type": "stream",
     "text": [
      "The Largest Number is:  6\n"
     ]
    }
   ],
   "source": [
    "# Your code here\n",
    "n1 = int(input(\"Enter the First Number: \"))\n",
    "n2 = int(input(\"Enter the Second Number: \"))\n",
    "n3 = int(input(\"Enter the Third Number: \"))\n",
    "\n",
    "def large_no(n1,n2,n3):\n",
    "    max_no = max(n1,n2,n3)\n",
    "    return max_no\n",
    "\n",
    "largest = large_no(n1,n2,n3)\n",
    "print(\"The Largest Number is: \", largest)"
   ]
  },
  {
   "cell_type": "markdown",
   "metadata": {},
   "source": [
    "**Question 5:** Write a Python program to calculate the factorial of a number."
   ]
  },
  {
   "cell_type": "code",
   "execution_count": 5,
   "metadata": {},
   "outputs": [
    {
     "name": "stdin",
     "output_type": "stream",
     "text": [
      "Enter a number to calculate its factorial:  7\n"
     ]
    },
    {
     "name": "stdout",
     "output_type": "stream",
     "text": [
      "The Factorial of 7 is : 5040\n"
     ]
    }
   ],
   "source": [
    "# Your code here\n",
    "num = int(input(\"Enter a number to calculate its factorial: \"))\n",
    "\n",
    "# Functtion to calculate the factorial\n",
    "\n",
    "def factorial(n):\n",
    "    if n==0 or n==1:\n",
    "        return 1\n",
    "    else:\n",
    "        return n * factorial(n-1)  # RECURSIVE CALL\n",
    "    \n",
    "if num < 0 :\n",
    "    print(\"Factorial is not defined for negative number.\")\n",
    "else:\n",
    "    result = factorial(num)\n",
    "    print(f\"The Factorial of {num} is : {result}\")"
   ]
  },
  {
   "cell_type": "markdown",
   "metadata": {},
   "source": [
    "## 2. Variables and Data Types\n",
    "\n",
    "**Question 6:** Create variables of different data types: integer, float, string, and boolean. Print their values and types."
   ]
  },
  {
   "cell_type": "code",
   "execution_count": 6,
   "metadata": {},
   "outputs": [
    {
     "name": "stdout",
     "output_type": "stream",
     "text": [
      "10 is <class 'int'>\n",
      "10.5 is <class 'float'>\n",
      "Rushikesh is <class 'str'>\n",
      "True is <class 'bool'>\n"
     ]
    }
   ],
   "source": [
    "# Your code here\n",
    "integer = 10\n",
    "flo = 10.5\n",
    "string = \"Rushikesh\"\n",
    "boolean = True\n",
    "\n",
    "print(integer, \"is\", type(integer))\n",
    "print(flo, \"is\", type(flo))\n",
    "print(string, \"is\", type(string))\n",
    "print(boolean, \"is\", type(boolean))\n"
   ]
  },
  {
   "cell_type": "markdown",
   "metadata": {},
   "source": [
    "**Question 7:** Write a Python program to swap the values of two variables."
   ]
  },
  {
   "cell_type": "code",
   "execution_count": 7,
   "metadata": {},
   "outputs": [
    {
     "name": "stdout",
     "output_type": "stream",
     "text": [
      "Before Swapping: var1 =  5\n",
      "Before Swapping: var2 =  10\n",
      "Before Swapping: var1 =  10\n",
      "Before Swapping: var2 =  5\n"
     ]
    }
   ],
   "source": [
    "# Your code here\n",
    "var1 = 5\n",
    "var2 = 10\n",
    "\n",
    "print(\"Before Swapping: var1 = \",var1)\n",
    "print(\"Before Swapping: var2 = \",var2)\n",
    "\n",
    "temp = var1\n",
    "var1 = var2\n",
    "var2 = temp\n",
    "\n",
    "print(\"Before Swapping: var1 = \",var1)\n",
    "print(\"Before Swapping: var2 = \",var2)"
   ]
  },
  {
   "cell_type": "code",
   "execution_count": 8,
   "metadata": {},
   "outputs": [
    {
     "name": "stdout",
     "output_type": "stream",
     "text": [
      "Before Swapping: var1 =  5\n",
      "Before Swapping: var2 =  10\n",
      "Before Swapping: var1 =  10\n",
      "Before Swapping: var2 =  5\n"
     ]
    }
   ],
   "source": [
    "# Your code here\n",
    "var1 = 5\n",
    "var2 = 10\n",
    "\n",
    "print(\"Before Swapping: var1 = \",var1)\n",
    "print(\"Before Swapping: var2 = \",var2)\n",
    "\n",
    "var1, var2 = var2, var1\n",
    "\n",
    "print(\"Before Swapping: var1 = \",var1)\n",
    "print(\"Before Swapping: var2 = \",var2)"
   ]
  },
  {
   "cell_type": "markdown",
   "metadata": {},
   "source": [
    "**Question 8:** Write a Python program to convert Celsius to Fahrenheit."
   ]
  },
  {
   "cell_type": "code",
   "execution_count": 9,
   "metadata": {},
   "outputs": [
    {
     "name": "stdin",
     "output_type": "stream",
     "text": [
      "Enter temperature in celcius:  24\n"
     ]
    },
    {
     "name": "stdout",
     "output_type": "stream",
     "text": [
      "24.0°C is equal to 75.2\n"
     ]
    }
   ],
   "source": [
    "# Your code here\n",
    "celsius = float(input(\"Enter temperature in celcius: \"))\n",
    "fahrenheit = (celsius * 9/5) + 32\n",
    "print(f\"{celsius}°C is equal to {fahrenheit}\")"
   ]
  },
  {
   "cell_type": "code",
   "execution_count": 10,
   "metadata": {},
   "outputs": [
    {
     "name": "stdin",
     "output_type": "stream",
     "text": [
      "Enter temperature in Celsius:  28\n"
     ]
    },
    {
     "name": "stdout",
     "output_type": "stream",
     "text": [
      "28.0°C is equal to 82.4°F\n"
     ]
    }
   ],
   "source": [
    "# Solution\n",
    "celsius = float(input(\"Enter temperature in Celsius: \"))\n",
    "fahrenheit = (celsius * 9/5) + 32\n",
    "print(f\"{celsius}°C is equal to {fahrenheit}°F\")"
   ]
  },
  {
   "cell_type": "code",
   "execution_count": null,
   "metadata": {},
   "outputs": [],
   "source": []
  },
  {
   "cell_type": "markdown",
   "metadata": {},
   "source": [
    "**Question 9:** Write a Python program to concatenate two strings."
   ]
  },
  {
   "cell_type": "code",
   "execution_count": 24,
   "metadata": {},
   "outputs": [
    {
     "name": "stdout",
     "output_type": "stream",
     "text": [
      "RushiKesh\n",
      "<class 'str'>\n"
     ]
    }
   ],
   "source": [
    "# Your code here\n",
    "str1 = \"Rushi\"\n",
    "str2 = \"Kesh\"\n",
    "two_string = str1 + str2\n",
    "print(two_string)\n",
    "print(type(two_string))"
   ]
  },
  {
   "cell_type": "markdown",
   "metadata": {},
   "source": [
    "**Question 10:** Write a Python program to check if a variable is of a specific data type."
   ]
  },
  {
   "cell_type": "code",
   "execution_count": 25,
   "metadata": {},
   "outputs": [
    {
     "name": "stdout",
     "output_type": "stream",
     "text": [
      "10.52 is a float\n"
     ]
    }
   ],
   "source": [
    "# Your code here\n",
    "var = 10.52\n",
    "if isinstance(var,float):\n",
    "    print(f\"{var} is a float\")\n",
    "else:\n",
    "    print(f\"{var} is Not a Float\")"
   ]
  },
  {
   "cell_type": "markdown",
   "metadata": {},
   "source": [
    "## 3. Basic Operators (Arithmetic, Comparison, Logical)\n",
    "\n",
    "**Question 11:** Write a Python program to perform arithmetic operations: addition, subtraction, multiplication, and division."
   ]
  },
  {
   "cell_type": "code",
   "execution_count": 26,
   "metadata": {},
   "outputs": [
    {
     "name": "stdout",
     "output_type": "stream",
     "text": [
      "Addition: 5 + 3 = 8\n",
      "Substraction: 5 - 3 = 2\n",
      "Multiplication: 5 * 3 = 15\n",
      "Division: 5 / 3 = 1.6666666666666667\n",
      "Floar Division: 5 // 3 = 1\n",
      "Modulus: 5 % 3 = 2\n",
      "Exponentiation: 5 ** 3 = 125\n"
     ]
    }
   ],
   "source": [
    "# Your code here\n",
    "a = 5\n",
    "b = 3\n",
    "\n",
    "print(f\"Addition: {a} + {b} = {a + b}\")\n",
    "print(f\"Substraction: {a} - {b} = {a - b}\")\n",
    "print(f\"Multiplication: {a} * {b} = {a * b}\")\n",
    "print(f\"Division: {a} / {b} = {a / b}\")\n",
    "print(f\"Floar Division: {a} // {b} = {a // b}\")\n",
    "print(f\"Modulus: {a} % {b} = {a % b}\")\n",
    "print(f\"Exponentiation: {a} ** {b} = {a ** b}\")"
   ]
  },
  {
   "cell_type": "markdown",
   "metadata": {},
   "source": [
    "**Question 12:** Write a Python program to demonstrate comparison operators: equal to, not equal to, greater than, less than."
   ]
  },
  {
   "cell_type": "code",
   "execution_count": 27,
   "metadata": {},
   "outputs": [
    {
     "name": "stdout",
     "output_type": "stream",
     "text": [
      "5 == 3: False\n",
      "5 != 3: True\n",
      "5 > 3: True\n",
      "5 < 3: False\n"
     ]
    }
   ],
   "source": [
    "# Your code here\n",
    "a = 5\n",
    "b = 3\n",
    "\n",
    "print(f\"{a} == {b}: {a == b}\")\n",
    "print(f\"{a} != {b}: {a != b}\")\n",
    "print(f\"{a} > {b}: {a > b}\")\n",
    "print(f\"{a} < {b}: {a < b}\")"
   ]
  },
  {
   "cell_type": "markdown",
   "metadata": {},
   "source": [
    "**Question 13:** Write a Python program to demonstrate logical operators: and, or, not."
   ]
  },
  {
   "cell_type": "code",
   "execution_count": 28,
   "metadata": {},
   "outputs": [
    {
     "name": "stdout",
     "output_type": "stream",
     "text": [
      "True and False: False\n",
      "True or False: True\n",
      "not True: False\n"
     ]
    }
   ],
   "source": [
    "# Your code here\n",
    "# Solution\n",
    "a = True\n",
    "b = False\n",
    "\n",
    "print(f\"True and False: {a and b}\")\n",
    "print(f\"True or False: {a or b}\")\n",
    "print(f\"not True: {not a}\")"
   ]
  },
  {
   "cell_type": "markdown",
   "metadata": {},
   "source": [
    "**Question 14:** Write a Python program to calculate the square of a number."
   ]
  },
  {
   "cell_type": "code",
   "execution_count": 29,
   "metadata": {},
   "outputs": [
    {
     "name": "stdin",
     "output_type": "stream",
     "text": [
      "Enter a number:  5\n"
     ]
    },
    {
     "name": "stdout",
     "output_type": "stream",
     "text": [
      "The square of 5.0 is 25.0\n"
     ]
    }
   ],
   "source": [
    "# Your code here\n",
    "num = float(input(\"Enter a number: \"))\n",
    "square = num ** 2\n",
    "print(f\"The square of {num} is {square}\")"
   ]
  },
  {
   "cell_type": "markdown",
   "metadata": {},
   "source": [
    "**Question 15:** Write a Python program to check if a number is even or odd."
   ]
  },
  {
   "cell_type": "code",
   "execution_count": 33,
   "metadata": {},
   "outputs": [
    {
     "name": "stdin",
     "output_type": "stream",
     "text": [
      "Enter the Number:  4444\n"
     ]
    },
    {
     "name": "stdout",
     "output_type": "stream",
     "text": [
      "4444 is the Even Number\n"
     ]
    }
   ],
   "source": [
    "# Your code here\n",
    "num1 = int(input(\"Enter the Number: \"))\n",
    "if num1 % 2 == 0:\n",
    "    print(f\"{num1} is the Even Number\")\n",
    "else:\n",
    "    print(f\"{num1} is the Odd Number\")"
   ]
  },
  {
   "cell_type": "markdown",
   "metadata": {},
   "source": [
    "**Question 16:** Write a Python program to find the sum of the first n natural numbers."
   ]
  },
  {
   "cell_type": "code",
   "execution_count": 37,
   "metadata": {},
   "outputs": [
    {
     "name": "stdin",
     "output_type": "stream",
     "text": [
      "Enter the number:  55\n"
     ]
    },
    {
     "name": "stdout",
     "output_type": "stream",
     "text": [
      "The sum of the first 55 natural number is 1540\n"
     ]
    }
   ],
   "source": [
    "# Your code here\n",
    "n = int(input(\"Enter the number: \"))\n",
    "sum_n = (n * (n + 1)) // 2\n",
    "print(f\"The sum of the first {n} natural number is {sum_n}\")"
   ]
  },
  {
   "cell_type": "markdown",
   "metadata": {},
   "source": [
    "**Question 17:** Write a Python program to check if a year is a leap year."
   ]
  },
  {
   "cell_type": "code",
   "execution_count": 42,
   "metadata": {},
   "outputs": [
    {
     "name": "stdin",
     "output_type": "stream",
     "text": [
      "Enter the Year:  2084\n"
     ]
    },
    {
     "name": "stdout",
     "output_type": "stream",
     "text": [
      "2084 is the leap year.\n"
     ]
    }
   ],
   "source": [
    "# Your code here\n",
    "year = int(input(\"Enter the Year: \"))\n",
    "\n",
    "if (year % 4 == 0 and year % 100 != 0 ) or (year % 400 == 0):\n",
    "    print(f\"{year} is the leap year.\")\n",
    "else:\n",
    "    print(f\"{year} is the Not leap year\")"
   ]
  },
  {
   "cell_type": "markdown",
   "metadata": {},
   "source": [
    "**Question 18:** Write a Python program to reverse a string."
   ]
  },
  {
   "cell_type": "code",
   "execution_count": 43,
   "metadata": {},
   "outputs": [
    {
     "name": "stdout",
     "output_type": "stream",
     "text": [
      "The reverse string is: hsekihsuR\n"
     ]
    }
   ],
   "source": [
    "# Your code here\n",
    "str_rev = \"Rushikesh\"\n",
    "rev = str_rev[::-1]\n",
    "print(f\"The reverse string is: {rev}\")"
   ]
  },
  {
   "cell_type": "markdown",
   "metadata": {},
   "source": [
    "**Question 19:** Write a Python program to check if a string is a palindrome."
   ]
  },
  {
   "cell_type": "code",
   "execution_count": 47,
   "metadata": {},
   "outputs": [
    {
     "name": "stdin",
     "output_type": "stream",
     "text": [
      "Enter a string:  rushiihsur\n"
     ]
    },
    {
     "name": "stdout",
     "output_type": "stream",
     "text": [
      "rushiihsur is a palindrome.\n"
     ]
    }
   ],
   "source": [
    "# Your code here\n",
    "string = input(\"Enter a string: \")\n",
    "if string == string[::-1]:\n",
    "    print(f\"{string} is a palindrome.\")\n",
    "else:\n",
    "    print(f\"{string} is a Not palindrome.\")"
   ]
  },
  {
   "cell_type": "markdown",
   "metadata": {},
   "source": [
    "**Question 20:** Write a Python program to sort a list of numbers in ascending order."
   ]
  },
  {
   "cell_type": "code",
   "execution_count": 52,
   "metadata": {},
   "outputs": [
    {
     "name": "stdin",
     "output_type": "stream",
     "text": [
      "Enter numbers separated by space:  10 2 3 455 61\n"
     ]
    },
    {
     "name": "stdout",
     "output_type": "stream",
     "text": [
      "Sorted list: [2, 3, 10, 61, 455]\n"
     ]
    }
   ],
   "source": [
    "# Your code here\n",
    "numbers = [int(x) for x in input(\"Enter numbers separated by space: \").split()]\n",
    "numbers.sort()\n",
    "print(f\"Sorted list: {numbers}\")"
   ]
  },
  {
   "cell_type": "code",
   "execution_count": 49,
   "metadata": {},
   "outputs": [
    {
     "name": "stdin",
     "output_type": "stream",
     "text": [
      "Enter numbers separated by space:  5 4 6 7 9 \n"
     ]
    },
    {
     "name": "stdout",
     "output_type": "stream",
     "text": [
      "Sorted list: [4, 5, 6, 7, 9]\n"
     ]
    }
   ],
   "source": [
    "# Solution\n",
    "numbers = [int(x) for x in input(\"Enter numbers separated by space: \").split()]\n",
    "numbers.sort()\n",
    "print(f\"Sorted list: {numbers}\")"
   ]
  },
  {
   "cell_type": "code",
   "execution_count": null,
   "metadata": {},
   "outputs": [],
   "source": []
  }
 ],
 "metadata": {
  "kernelspec": {
   "display_name": "Python 3 (ipykernel)",
   "language": "python",
   "name": "python3"
  },
  "language_info": {
   "codemirror_mode": {
    "name": "ipython",
    "version": 3
   },
   "file_extension": ".py",
   "mimetype": "text/x-python",
   "name": "python",
   "nbconvert_exporter": "python",
   "pygments_lexer": "ipython3",
   "version": "3.12.3"
  }
 },
 "nbformat": 4,
 "nbformat_minor": 4
}
