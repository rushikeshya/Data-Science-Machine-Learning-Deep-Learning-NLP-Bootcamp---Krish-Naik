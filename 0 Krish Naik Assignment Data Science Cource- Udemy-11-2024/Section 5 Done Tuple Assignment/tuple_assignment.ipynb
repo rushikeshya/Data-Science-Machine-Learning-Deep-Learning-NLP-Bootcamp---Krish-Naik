{
 "cells": [
  {
   "cell_type": "markdown",
   "id": "6cade624",
   "metadata": {},
   "source": [
    "# Module 3: Data Structures Assignments\n",
    "## Lesson 3.2: Tuples\n"
   ]
  },
  {
   "cell_type": "markdown",
   "id": "0ece2451",
   "metadata": {},
   "source": [
    "### Assignment 1: Creating and Accessing Tuples\n",
    "\n",
    "Create a tuple with the first 10 positive integers. Print the tuple.\n"
   ]
  },
  {
   "cell_type": "code",
   "execution_count": 3,
   "id": "d64397f3",
   "metadata": {},
   "outputs": [
    {
     "name": "stdout",
     "output_type": "stream",
     "text": [
      "(1, 2, 3, 4, 5, 6, 7, 8, 9, 10)\n",
      "<class 'tuple'>\n"
     ]
    }
   ],
   "source": [
    "tup1 = tuple(range(1,11))\n",
    "print(tup1)\n",
    "print(type(tup1))"
   ]
  },
  {
   "cell_type": "markdown",
   "id": "71608b41",
   "metadata": {},
   "source": [
    "### Assignment 2: Accessing Tuple Elements\n",
    "\n",
    "Print the first, middle, and last elements of the tuple created in Assignment 1."
   ]
  },
  {
   "cell_type": "code",
   "execution_count": 5,
   "id": "559a73ce",
   "metadata": {},
   "outputs": [
    {
     "name": "stdout",
     "output_type": "stream",
     "text": [
      "First Element of Tuple: 1\n",
      "middle Element of Tuple: 6\n",
      "Last Element of Tuple: 10\n"
     ]
    }
   ],
   "source": [
    "print(f\"First Element of Tuple: {tup1[0]}\")\n",
    "print(f\"middle Element of Tuple: {tup1[len(tup1) // 2]}\")\n",
    "print(f\"Last Element of Tuple: {tup1[-1]}\")"
   ]
  },
  {
   "cell_type": "markdown",
   "id": "4be5a90d",
   "metadata": {},
   "source": [
    "### Assignment 3: Tuple Slicing\n",
    "\n",
    "Print the first three elements, the last three elements, and the elements from index 2 to 5 of the tuple created in Assignment 1.\n"
   ]
  },
  {
   "cell_type": "code",
   "execution_count": 11,
   "id": "8c93d02c",
   "metadata": {},
   "outputs": [
    {
     "name": "stdout",
     "output_type": "stream",
     "text": [
      "First Three Elements: (1, 2, 3)\n",
      "Last Three Elements: (8, 9, 10)\n",
      "From index 2nd to 5th Elements: (3, 4, 5, 6)\n"
     ]
    }
   ],
   "source": [
    "print(f\"First Three Elements: {tup1[:3]}\")\n",
    "print(f\"Last Three Elements: {tup1[-3:]}\")\n",
    "print(f\"From index 2nd to 5th Elements: {tup1[2:6]}\")"
   ]
  },
  {
   "cell_type": "markdown",
   "id": "e17fe62a",
   "metadata": {},
   "source": [
    "### Assignment 4: Nested Tuples\n",
    "\n",
    "Create a nested tuple representing a 3x3 matrix and print the matrix. Access and print the element at the second row and third column."
   ]
  },
  {
   "cell_type": "code",
   "execution_count": 16,
   "id": "0adfb0fd",
   "metadata": {},
   "outputs": [
    {
     "name": "stdout",
     "output_type": "stream",
     "text": [
      "tuple_matrix\n",
      "(1, 2, 3)\n",
      "(4, 5, 6)\n",
      "(7, 8, 9)\n",
      "element at the second row and third column is: 6\n"
     ]
    }
   ],
   "source": [
    "tuple_matrix = (\n",
    "    (1,2,3),\n",
    "    (4,5,6),\n",
    "    (7,8,9)\n",
    ")\n",
    "\n",
    "print(\"tuple_matrix\")\n",
    "for row in tuple_matrix:\n",
    "    print(row)\n",
    "print(f\"element at the second row and third column is: {tuple_matrix[1][2]}\")"
   ]
  },
  {
   "cell_type": "code",
   "execution_count": 13,
   "id": "bc26ca37",
   "metadata": {},
   "outputs": [
    {
     "name": "stdout",
     "output_type": "stream",
     "text": [
      "Matrix:\n",
      "(1, 2, 3)\n",
      "(4, 5, 6)\n",
      "(7, 8, 9)\n",
      "Element at second row and third column: 6\n"
     ]
    }
   ],
   "source": [
    "matrix = (\n",
    "    (1, 2, 3),\n",
    "    (4, 5, 6),\n",
    "    (7, 8, 9)\n",
    ")\n",
    "print(\"Matrix:\")\n",
    "for row in matrix:\n",
    "    print(row)\n",
    "print(f\"Element at second row and third column: {matrix[1][2]}\")"
   ]
  },
  {
   "cell_type": "markdown",
   "id": "2cc1335e",
   "metadata": {},
   "source": [
    "### Assignment 5: Tuple Concatenation\n",
    "\n",
    "Concatenate two tuples: (1, 2, 3) and (4, 5, 6). Print the resulting tuple."
   ]
  },
  {
   "cell_type": "code",
   "execution_count": 17,
   "id": "2599a910",
   "metadata": {},
   "outputs": [
    {
     "name": "stdout",
     "output_type": "stream",
     "text": [
      "(1, 2, 3, 4, 5, 6)\n"
     ]
    }
   ],
   "source": [
    "t1 = (1,2,3)\n",
    "t2 = (4,5,6)\n",
    "\n",
    "result = t1 + t2 \n",
    "print(result)"
   ]
  },
  {
   "cell_type": "markdown",
   "id": "5dab0ebb",
   "metadata": {},
   "source": [
    "### Assignment 6: Tuple Methods\n",
    "\n",
    "Create a tuple with duplicate elements and count the occurrences of an element. Find the index of the first occurrence of an element in the tuple."
   ]
  },
  {
   "cell_type": "code",
   "execution_count": 21,
   "id": "93d0160e",
   "metadata": {},
   "outputs": [
    {
     "name": "stdout",
     "output_type": "stream",
     "text": [
      "Original tuple with Duplicate Elemetns: (1, 2, 4, 1, 1, 4, 5, 4, 4, 4, 3, 5, 4, 7, 10)\n",
      "Counts of 1: 3\n",
      "counts of 4: 6\n",
      "Index of first occurance 4 in the Tuple: 2\n"
     ]
    }
   ],
   "source": [
    "duplicate_tuple = (1,2,4,1,1,4,5,4,4,4,3,5,4,7,10)\n",
    "print(f\"Original tuple with Duplicate Elemetns: {duplicate_tuple}\")\n",
    "\n",
    "# Counting the occurrences of an 1 and 4 elements in the given tuple\n",
    "print(f\"Counts of 1: {duplicate_tuple.count(1)}\")\n",
    "print(f\"counts of 4: {duplicate_tuple.count(4)}\")\n",
    "\n",
    "# Finding index of first occurrence of an 4 element in the Tuple\n",
    "print(f\"Index of first occurance 4 in the Tuple: {duplicate_tuple.index(4)}\")"
   ]
  },
  {
   "cell_type": "markdown",
   "id": "7508bbbb",
   "metadata": {},
   "source": [
    "### Assignment 7: Unpacking Tuples\n",
    "\n",
    "Create a tuple with 5 elements and unpack it into 5 variables. Print the variables."
   ]
  },
  {
   "cell_type": "code",
   "execution_count": 24,
   "id": "01afcba2",
   "metadata": {},
   "outputs": [
    {
     "name": "stdout",
     "output_type": "stream",
     "text": [
      "1 2 3 4 5\n"
     ]
    }
   ],
   "source": [
    "tpl = (1,2,3,4,5)\n",
    "a,b,c,d,e = tpl\n",
    "\n",
    "print(a,b,c,d,e)"
   ]
  },
  {
   "cell_type": "markdown",
   "id": "15e08460",
   "metadata": {},
   "source": [
    "### Assignment 8: Tuple Conversion\n",
    "\n",
    "Convert a list of the first 5 positive integers to a tuple. Print the tuple."
   ]
  },
  {
   "cell_type": "code",
   "execution_count": 25,
   "id": "9f51b1ab",
   "metadata": {},
   "outputs": [
    {
     "name": "stdout",
     "output_type": "stream",
     "text": [
      "(1, 2, 3, 4, 5)\n",
      "<class 'tuple'>\n"
     ]
    }
   ],
   "source": [
    "lst = [1,2,3,4,5]\n",
    "tpl = tuple(lst)\n",
    "print(tpl)\n",
    "print(type(tpl))"
   ]
  },
  {
   "cell_type": "markdown",
   "id": "5bd8152f",
   "metadata": {},
   "source": [
    "### Assignment 9: Tuple of Tuples\n",
    "\n",
    "Create a tuple containing 3 tuples, each with 3 elements. Print the tuple of tuples."
   ]
  },
  {
   "cell_type": "code",
   "execution_count": 27,
   "id": "373c2e7c",
   "metadata": {},
   "outputs": [
    {
     "name": "stdout",
     "output_type": "stream",
     "text": [
      "((1, 2, 3), (4, 5, 6), (7, 8, 9))\n",
      "(1, 2, 3)\n",
      "(4, 5, 6)\n",
      "(7, 8, 9)\n"
     ]
    }
   ],
   "source": [
    "tpl_of_tpls = (\n",
    "    (1,2,3),\n",
    "    (4,5,6),\n",
    "    (7,8,9)\n",
    ")\n",
    "print(tpl_of_tpls)\n",
    "for row in tpl_of_tpls:\n",
    "    print(row)"
   ]
  },
  {
   "cell_type": "markdown",
   "id": "244acf23",
   "metadata": {},
   "source": [
    "### Assignment 10: Tuple and List\n",
    "\n",
    "Create a tuple with the first 5 positive integers. Convert it to a list, append the number 6, and convert it back to a tuple. Print the resulting tuple.\n"
   ]
  },
  {
   "cell_type": "code",
   "execution_count": 30,
   "id": "d7c611b9",
   "metadata": {},
   "outputs": [
    {
     "name": "stdout",
     "output_type": "stream",
     "text": [
      "<class 'list'> [1, 2, 3, 4, 5]\n",
      "[1, 2, 3, 4, 5, 6]\n",
      "(1, 2, 3, 4, 5, 6) <class 'tuple'>\n"
     ]
    }
   ],
   "source": [
    "tpl = (1,2,3,4,5)\n",
    "lst = list(tpl)\n",
    "print(type(lst),lst)\n",
    "lst.append(6)\n",
    "print(lst)\n",
    "tpl = tuple(lst)\n",
    "print(tpl, type(tpl))"
   ]
  },
  {
   "cell_type": "markdown",
   "id": "021f1ad2",
   "metadata": {},
   "source": [
    "### Assignment 11: Tuple and String\n",
    "\n",
    "Create a tuple with the characters of a string. Join the tuple elements into a single string. Print the string."
   ]
  },
  {
   "cell_type": "code",
   "execution_count": 32,
   "id": "7cb94ec9",
   "metadata": {},
   "outputs": [
    {
     "name": "stdout",
     "output_type": "stream",
     "text": [
      "('H', 'e', 'l', 'l', 'o')\n",
      "Hello\n"
     ]
    }
   ],
   "source": [
    "string = \"Hello\"\n",
    "tpl = tuple(string)\n",
    "print(tpl)\n",
    "joined_string = ''.join(tpl)\n",
    "print(joined_string)"
   ]
  },
  {
   "cell_type": "markdown",
   "id": "c63487bd",
   "metadata": {},
   "source": [
    "### Assignment 12: Tuple and Dictionary\n",
    "\n",
    "Create a dictionary with tuple keys and integer values. Print the dictionary."
   ]
  },
  {
   "cell_type": "code",
   "execution_count": 33,
   "id": "5aafac71",
   "metadata": {},
   "outputs": [
    {
     "name": "stdout",
     "output_type": "stream",
     "text": [
      "{(1, 2): 3, (4, 5): 6, (7, 8): 9}\n"
     ]
    }
   ],
   "source": [
    "tpl_dict = {\n",
    "    (1,2):3,\n",
    "    (4,5):6,\n",
    "    (7,8):9\n",
    "}\n",
    "print(tpl_dict)"
   ]
  },
  {
   "cell_type": "markdown",
   "id": "0f321bea",
   "metadata": {},
   "source": [
    "### Assignment 13: Nested Tuple Iteration\n",
    "\n",
    "Create a nested tuple and iterate over the elements, printing each element.\n"
   ]
  },
  {
   "cell_type": "code",
   "execution_count": 36,
   "id": "a562f588",
   "metadata": {},
   "outputs": [
    {
     "name": "stdout",
     "output_type": "stream",
     "text": [
      "1 2 3 \n",
      "4 5 6 \n",
      "7 8 9 \n"
     ]
    }
   ],
   "source": [
    "nested_tuple = (\n",
    "    (1,2,3),\n",
    "    (4,5,6),\n",
    "    (7,8,9)\n",
    ")\n",
    "\n",
    "for sub_tuple in nested_tuple:\n",
    "    for item in sub_tuple:\n",
    "        print(item, end=\" \")\n",
    "    print()"
   ]
  },
  {
   "cell_type": "markdown",
   "id": "b2b387c7",
   "metadata": {},
   "source": [
    "### Assignment 14: Tuple and Set\n",
    "\n",
    "Create a tuple with duplicate elements. Convert it to a set to remove duplicates and print the resulting set."
   ]
  },
  {
   "cell_type": "code",
   "execution_count": 37,
   "id": "4fb99402",
   "metadata": {},
   "outputs": [
    {
     "name": "stdout",
     "output_type": "stream",
     "text": [
      "(1, 2, 3, 4, 4, 4, 2, 1, 3, 1, 5, 5, 6, 7)\n",
      "{1, 2, 3, 4, 5, 6, 7}\n"
     ]
    }
   ],
   "source": [
    "tpl = (1,2,3,4,4,4,2,1,3,1,5,5,6,7)\n",
    "print(tpl)\n",
    "\n",
    "tpl_to_set = set(tpl)\n",
    "print(tpl_to_set)"
   ]
  },
  {
   "cell_type": "markdown",
   "id": "5623a8ca",
   "metadata": {},
   "source": [
    "### Assignment 15: Tuple Functions\n",
    "\n",
    "Write functions that take a tuple and return the minimum, maximum, and sum of the elements. Print the results for a sample tuple."
   ]
  },
  {
   "cell_type": "code",
   "execution_count": 42,
   "id": "1b84dc8e",
   "metadata": {},
   "outputs": [
    {
     "name": "stdout",
     "output_type": "stream",
     "text": [
      "Minimum value of Tuple: 1\n",
      "Maximum value of Tuple: 5\n",
      "Sum value of Tuple: 15\n"
     ]
    }
   ],
   "source": [
    "def min_value(sample_tuple):\n",
    "    return min(sample_tuple)\n",
    "def max_value(sample_tuple):\n",
    "    return max(sample_tuple)\n",
    "def sum_value(sample_tuple):\n",
    "    return sum(sample_tuple)\n",
    "\n",
    "sample_tuple = (1,2,3,4,5)\n",
    "print(f\"Minimum value of Tuple: {min_value(sample_tuple)}\")\n",
    "print(f\"Maximum value of Tuple: {max_value(sample_tuple)}\")\n",
    "print(f\"Sum value of Tuple: {sum_value(sample_tuple)}\")"
   ]
  },
  {
   "cell_type": "markdown",
   "id": "3b649594",
   "metadata": {},
   "source": [
    "# Thank YOU!"
   ]
  }
 ],
 "metadata": {
  "kernelspec": {
   "display_name": "Python 3",
   "language": "python",
   "name": "python3"
  },
  "language_info": {
   "codemirror_mode": {
    "name": "ipython",
    "version": 3
   },
   "file_extension": ".py",
   "mimetype": "text/x-python",
   "name": "python",
   "nbconvert_exporter": "python",
   "pygments_lexer": "ipython3",
   "version": "3.12.3"
  }
 },
 "nbformat": 4,
 "nbformat_minor": 5
}
