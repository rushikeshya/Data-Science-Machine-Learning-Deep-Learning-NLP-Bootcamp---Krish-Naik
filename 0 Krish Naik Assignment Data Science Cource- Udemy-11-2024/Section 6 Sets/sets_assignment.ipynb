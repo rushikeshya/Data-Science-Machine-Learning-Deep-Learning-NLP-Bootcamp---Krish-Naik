{
 "cells": [
  {
   "cell_type": "markdown",
   "metadata": {},
   "source": [
    "# Module 3: Data Structures Assignments\n",
    "## Lesson 3.3: Sets"
   ]
  },
  {
   "cell_type": "markdown",
   "id": "4c2527b9",
   "metadata": {},
   "source": [
    "### Assignment 1: Creating and Accessing Sets\n",
    "\n",
    "Create a set with the first 10 positive integers. Print the set.\n"
   ]
  },
  {
   "cell_type": "code",
   "execution_count": 11,
   "id": "88294510",
   "metadata": {},
   "outputs": [
    {
     "name": "stdout",
     "output_type": "stream",
     "text": [
      "{1, 2, 3, 4, 5, 6, 7, 8, 9, 10}\n"
     ]
    }
   ],
   "source": [
    "set1 = set([i for i in range(1,11)])\n",
    "print(set1)"
   ]
  },
  {
   "cell_type": "code",
   "execution_count": 12,
   "id": "4d26262a",
   "metadata": {},
   "outputs": [
    {
     "name": "stdout",
     "output_type": "stream",
     "text": [
      "{1, 2, 3, 4, 5, 6, 7, 8, 9, 10}\n"
     ]
    }
   ],
   "source": [
    "set1 = set(range(1,11))\n",
    "print(set2)"
   ]
  },
  {
   "cell_type": "markdown",
   "id": "6e905a8f",
   "metadata": {},
   "source": [
    "### Assignment 2: Adding and Removing Elements\n",
    "\n",
    "Add the number 11 to the set created in Assignment 1. Then remove the number 1 from the set. Print the modified set.\n"
   ]
  },
  {
   "cell_type": "code",
   "execution_count": 13,
   "id": "8278a4c4",
   "metadata": {},
   "outputs": [
    {
     "name": "stdout",
     "output_type": "stream",
     "text": [
      "{1, 2, 3, 4, 5, 6, 7, 8, 9, 10, 11}\n",
      "{2, 3, 4, 5, 6, 7, 8, 9, 10, 11}\n"
     ]
    }
   ],
   "source": [
    "set1.add(11)\n",
    "print(set1)\n",
    "set1.remove(1)\n",
    "print(set1)"
   ]
  },
  {
   "cell_type": "markdown",
   "id": "396328da",
   "metadata": {},
   "source": [
    "### Assignment 3: Set Operations\n",
    "\n",
    "Create two sets: one with the first 5 positive integers and another with the first 5 even integers. Perform and print the results of union, intersection, difference, and symmetric difference operations on these sets.\n",
    "\n"
   ]
  },
  {
   "cell_type": "code",
   "execution_count": null,
   "id": "bfbbb8fc",
   "metadata": {},
   "outputs": [
    {
     "name": "stdout",
     "output_type": "stream",
     "text": [
      "{1, 2, 3, 4, 5}\n",
      "{2, 4, 6, 8, 10}\n"
     ]
    }
   ],
   "source": [
    "set1 = set([i for i in range(1,6)])\n",
    "print(set1)\n",
    "set2 = set([i for i in range(1,11) if i%2 == 0])\n",
    "print(set2)"
   ]
  },
  {
   "cell_type": "markdown",
   "id": "111377b3",
   "metadata": {},
   "source": [
    "#### Union"
   ]
  },
  {
   "cell_type": "code",
   "execution_count": 16,
   "id": "6f01796e",
   "metadata": {},
   "outputs": [
    {
     "name": "stdout",
     "output_type": "stream",
     "text": [
      "Union: {1, 2, 3, 4, 5, 6, 8, 10}\n"
     ]
    }
   ],
   "source": [
    "## Union\n",
    "union_set = set1.union(set2)\n",
    "print(f\"Union: {union_set}\")  # {1, 2, 3, 4, 5, 6, 8, 10}"
   ]
  },
  {
   "cell_type": "code",
   "execution_count": 24,
   "id": "40b259e0",
   "metadata": {},
   "outputs": [
    {
     "name": "stdout",
     "output_type": "stream",
     "text": [
      "Union: {1, 2, 3, 4, 5, 6, 8, 10}\n"
     ]
    }
   ],
   "source": [
    "set1 = set(range(1, 6))\n",
    "set2 = set(range(2, 11, 2))\n",
    "print(f\"Union: {set1 | set2}\")"
   ]
  },
  {
   "cell_type": "markdown",
   "id": "c18795ff",
   "metadata": {},
   "source": [
    "#### intersection"
   ]
  },
  {
   "cell_type": "code",
   "execution_count": 26,
   "id": "6513b58e",
   "metadata": {},
   "outputs": [
    {
     "name": "stdout",
     "output_type": "stream",
     "text": [
      "Intersection set: {2, 4}\n"
     ]
    }
   ],
   "source": [
    "## intersection\n",
    "intersection_set = set1.intersection(set2)\n",
    "print(f\"Intersection set: {intersection_set}\")  # {2, 4}"
   ]
  },
  {
   "cell_type": "code",
   "execution_count": 27,
   "id": "7b2bde09",
   "metadata": {},
   "outputs": [
    {
     "name": "stdout",
     "output_type": "stream",
     "text": [
      "Intersection set: {2, 4}\n"
     ]
    }
   ],
   "source": [
    "print(f\"Intersection set: {set1 & set2 }\")  # {2, 4}"
   ]
  },
  {
   "cell_type": "markdown",
   "id": "191a353f",
   "metadata": {},
   "source": [
    "#### difference"
   ]
  },
  {
   "cell_type": "code",
   "execution_count": 18,
   "id": "b9fb030d",
   "metadata": {},
   "outputs": [
    {
     "name": "stdout",
     "output_type": "stream",
     "text": [
      "Difference of set1 with set2: {1, 3, 5} \n",
      "Difference of set2 with set1: {8, 10, 6} \n"
     ]
    }
   ],
   "source": [
    "## difference\n",
    "diff_set1 = set1.difference(set2) #{1, 3, 5}\n",
    "print(f\"Difference of set1 with set2: {diff_set1} \")\n",
    "\n",
    "diff_set2 = set2.difference(set1) #{6, 8, 10}\n",
    "print(f\"Difference of set2 with set1: {diff_set2} \")"
   ]
  },
  {
   "cell_type": "code",
   "execution_count": 28,
   "id": "4ee5d3a0",
   "metadata": {},
   "outputs": [
    {
     "name": "stdout",
     "output_type": "stream",
     "text": [
      "Difference of set1 with set2: {1, 3, 5} \n",
      "Difference of set2 with set1: {8, 10, 6} \n"
     ]
    }
   ],
   "source": [
    "print(f\"Difference of set1 with set2: {set1 - set2} \")\n",
    "print(f\"Difference of set2 with set1: {set2 - set1} \")"
   ]
  },
  {
   "cell_type": "markdown",
   "id": "4428b6df",
   "metadata": {},
   "source": [
    "#### symmetric_difference"
   ]
  },
  {
   "cell_type": "code",
   "execution_count": 23,
   "id": "eff7d68f",
   "metadata": {},
   "outputs": [
    {
     "name": "stdout",
     "output_type": "stream",
     "text": [
      "{1, 2, 3, 4, 5}\n",
      "{2, 4, 6, 8, 10}\n",
      "Syemmetric Difference: {1, 3, 5, 6, 8, 10}\n"
     ]
    }
   ],
   "source": [
    "set1 = set([i for i in range(1,6)])\n",
    "print(set1)\n",
    "set2 = set([i for i in range(1,11) if i%2 == 0])\n",
    "print(set2)\n",
    "\n",
    "## symmetric_difference\n",
    "symm_diff = set1.symmetric_difference(set2)\n",
    "print(f\"Syemmetric Difference: {symm_diff}\")\n",
    "\n"
   ]
  },
  {
   "cell_type": "code",
   "execution_count": 29,
   "id": "2d345a29",
   "metadata": {},
   "outputs": [
    {
     "name": "stdout",
     "output_type": "stream",
     "text": [
      "Syemmetric Difference: {1, 3, 5, 6, 8, 10}\n"
     ]
    }
   ],
   "source": [
    "print(f\"Syemmetric Difference: {set1 ^ set2}\")"
   ]
  },
  {
   "cell_type": "markdown",
   "id": "ae6532c8",
   "metadata": {},
   "source": [
    "### Assignment 4: Set Comprehensions\n",
    "\n",
    "Create a new set containing the squares of the first 10 positive integers using a set comprehension. Print the new set."
   ]
  },
  {
   "cell_type": "code",
   "execution_count": 34,
   "id": "56acded3",
   "metadata": {},
   "outputs": [
    {
     "name": "stdout",
     "output_type": "stream",
     "text": [
      "{64, 1, 4, 36, 100, 9, 16, 49, 81, 25}\n"
     ]
    }
   ],
   "source": [
    "squares = {x**2 for x in range(1,11)}\n",
    "print(squares)"
   ]
  },
  {
   "cell_type": "code",
   "execution_count": null,
   "id": "7db0da9a",
   "metadata": {},
   "outputs": [
    {
     "name": "stdout",
     "output_type": "stream",
     "text": [
      "Squares in Dictionary: {64, 1, 4, 36, 100, 9, 16, 49, 81, 25}\n",
      "Squares in List: [1, 4, 9, 16, 25, 36, 49, 64, 81, 100]\n"
     ]
    }
   ],
   "source": [
    "squares = {x**2 for x in range(1, 11)}\n",
    "print(f\"Squares in Dictionary: {squares}\")   # sets are Unordered Collection of an elements\n",
    "print(f\"Squares in List: {sorted(squares)}\")"
   ]
  },
  {
   "cell_type": "markdown",
   "id": "c2bcb0ef",
   "metadata": {},
   "source": [
    "### Assignment 5: Filtering Sets\n",
    "\n",
    "Create a new set containing only the even numbers from the set created in Assignment 1 using a set comprehension. Print the new set."
   ]
  },
  {
   "cell_type": "code",
   "execution_count": 44,
   "id": "f96bf808",
   "metadata": {},
   "outputs": [
    {
     "name": "stdout",
     "output_type": "stream",
     "text": [
      "set1: {1, 2, 3, 4, 5, 6, 7, 8, 9, 10}\n",
      "Even Set: {2, 4, 6, 8, 10}\n"
     ]
    }
   ],
   "source": [
    "set1 = set(range(1,11))\n",
    "print(f\"set1: {set1}\")\n",
    "even_set = {x for x in set1 if x % 2 == 0}\n",
    "print(f\"Even Set: {even_set}\")"
   ]
  },
  {
   "cell_type": "markdown",
   "id": "f25c48b8",
   "metadata": {},
   "source": [
    "### Assignment 6: Set Methods\n",
    "\n",
    "Create a set with duplicate elements and remove the duplicates using set methods. Print the modified set.\n"
   ]
  },
  {
   "cell_type": "code",
   "execution_count": 46,
   "id": "e23be581",
   "metadata": {},
   "outputs": [
    {
     "name": "stdout",
     "output_type": "stream",
     "text": [
      "{1, 2, 3, 4, 5, 8, 9, 10}\n"
     ]
    }
   ],
   "source": [
    "s = {1,2,1,2,3,4,5,5,8,9,10,10,10}\n",
    "set1 = set(s)\n",
    "print(set1)"
   ]
  },
  {
   "cell_type": "markdown",
   "id": "0c7a37be",
   "metadata": {},
   "source": [
    "### Assignment 7: Subsets and Supersets\n",
    "\n",
    "Create two sets: one with the first 5 positive integers and another with the first 3 positive integers. Check if the second set is a subset of the first set and if the first set is a superset of the second set. Print the results.\n"
   ]
  },
  {
   "cell_type": "code",
   "execution_count": 53,
   "id": "2529d1e6",
   "metadata": {},
   "outputs": [
    {
     "name": "stdout",
     "output_type": "stream",
     "text": [
      "set1: {1, 2, 3, 4, 5}\n",
      "set2: {1, 2, 3}\n",
      "set2 is subset of set1? :  True\n",
      "set1 is subset of set2? :  False\n",
      "set1 is superset of set2? :  True\n",
      "set2 is superset of set1? :  False\n"
     ]
    }
   ],
   "source": [
    "set1 = set(range(1,6))\n",
    "set2 = set(range(1,4))\n",
    "print(f\"set1: {set1}\")\n",
    "print(f\"set2: {set2}\")\n",
    "\n",
    "print(\"set2 is subset of set1? : \",set2.issubset(set1))\n",
    "print(\"set1 is subset of set2? : \",set1.issubset(set2))\n",
    "\n",
    "print(\"set1 is superset of set2? : \",set1.issuperset(set2)) # True\n",
    "print(\"set2 is superset of set1? : \",set2.issuperset(set1)) # Flase\n"
   ]
  },
  {
   "cell_type": "markdown",
   "id": "52fc5db5",
   "metadata": {},
   "source": [
    "### Assignment 8: Frozenset\n",
    "\n",
    "Create a frozenset with the first 5 positive integers. Print the frozenset.\n"
   ]
  },
  {
   "cell_type": "code",
   "execution_count": 56,
   "id": "4df0c1be",
   "metadata": {},
   "outputs": [
    {
     "name": "stdout",
     "output_type": "stream",
     "text": [
      "frozenset({1, 2, 3, 4, 5})\n",
      "<class 'frozenset'>\n"
     ]
    },
    {
     "data": {
      "text/plain": [
       "frozenset({1, 2, 3, 4, 5})"
      ]
     },
     "execution_count": 56,
     "metadata": {},
     "output_type": "execute_result"
    }
   ],
   "source": [
    "frozenset1 = frozenset(range(1,6))\n",
    "print(frozenset1)\n",
    "print(type(frozenset1))\n",
    "\n",
    "frozenset1.union(set1)"
   ]
  },
  {
   "cell_type": "markdown",
   "id": "7331c18b",
   "metadata": {},
   "source": [
    "### Assignment 9: Set and List Conversion\n",
    "\n",
    "Create a set with the first 5 positive integers. Convert it to a list, append the number 6, and convert it back to a set. Print the resulting set.\n"
   ]
  },
  {
   "cell_type": "code",
   "execution_count": 57,
   "id": "2b47df16",
   "metadata": {},
   "outputs": [
    {
     "name": "stdout",
     "output_type": "stream",
     "text": [
      "{1, 2, 3, 4, 5}\n",
      "List:  [1, 2, 3, 4, 5, 6]\n",
      "{1, 2, 3, 4, 5, 6}\n"
     ]
    }
   ],
   "source": [
    "set1 = set(range(1,6))\n",
    "print(set1)\n",
    "lst = list(set1)\n",
    "lst.append(6)\n",
    "print(\"List: \",lst)\n",
    "set0 = set(lst)\n",
    "print(set0)"
   ]
  },
  {
   "cell_type": "markdown",
   "id": "f0fcf2f1",
   "metadata": {},
   "source": [
    "### Assignment 10: Set and Dictionary\n",
    "\n",
    "Create a dictionary with set keys and integer values. Print the dictionary."
   ]
  },
  {
   "cell_type": "code",
   "execution_count": 60,
   "id": "1cfc8054",
   "metadata": {},
   "outputs": [
    {
     "name": "stdout",
     "output_type": "stream",
     "text": [
      "<class 'dict'> {frozenset({'a'}): 1, frozenset({'b'}): 2, frozenset({'c'}): 3}\n"
     ]
    }
   ],
   "source": [
    "dict = {\n",
    "    frozenset({\"a\"}): 1,\n",
    "    frozenset(\"b\"): 2,\n",
    "    frozenset(\"c\"): 3,\n",
    "}\n",
    "print(type(dict),dict)"
   ]
  },
  {
   "cell_type": "code",
   "execution_count": 61,
   "id": "df69c37d",
   "metadata": {},
   "outputs": [
    {
     "name": "stdout",
     "output_type": "stream",
     "text": [
      "{frozenset({1, 2}): 3, frozenset({3, 4}): 7, frozenset({5, 6}): 11}\n"
     ]
    }
   ],
   "source": [
    "d = {\n",
    "    frozenset({1, 2}): 3,\n",
    "    frozenset({3, 4}): 7,\n",
    "    frozenset({5, 6}): 11\n",
    "}\n",
    "print(d)"
   ]
  },
  {
   "cell_type": "markdown",
   "id": "ef643b16",
   "metadata": {},
   "source": [
    "### Assignment 11: Iterating Over Sets\n",
    "\n",
    "Create a set and iterate over the elements, printing each element.\n"
   ]
  },
  {
   "cell_type": "code",
   "execution_count": 65,
   "id": "a9ca0709",
   "metadata": {},
   "outputs": [
    {
     "name": "stdout",
     "output_type": "stream",
     "text": [
      "1\n",
      "2\n",
      "3\n",
      "4\n"
     ]
    }
   ],
   "source": [
    "sets = set(range(1,5))\n",
    "for ele in (sets):\n",
    "    print(ele)"
   ]
  },
  {
   "cell_type": "markdown",
   "id": "c43814c6",
   "metadata": {},
   "source": [
    "### Assignment 12: Removing Elements from Sets\n",
    "\n",
    "Create a set and remove elements from it until it is empty. Print the set after each removal.\n"
   ]
  },
  {
   "cell_type": "code",
   "execution_count": null,
   "id": "efa828bf",
   "metadata": {},
   "outputs": [
    {
     "name": "stdout",
     "output_type": "stream",
     "text": [
      "{2, 3, 4, 5}\n",
      "{3, 4, 5}\n",
      "{4, 5}\n",
      "{5}\n",
      "set()\n"
     ]
    }
   ],
   "source": [
    "s = set(range(1,6))\n",
    "while s:\n",
    "    s.pop()\n",
    "    print(s)"
   ]
  },
  {
   "cell_type": "code",
   "execution_count": 68,
   "id": "6fd39807",
   "metadata": {},
   "outputs": [
    {
     "data": {
      "text/plain": [
       "set()"
      ]
     },
     "execution_count": 68,
     "metadata": {},
     "output_type": "execute_result"
    }
   ],
   "source": [
    "s = set(range(1,6))\n",
    "while s:\n",
    "    s.pop()\n",
    "s"
   ]
  },
  {
   "cell_type": "markdown",
   "id": "c5ef7149",
   "metadata": {},
   "source": [
    "### Assignment 13: Set Symmetric Difference Update\n",
    "\n",
    "Create two sets and update the first set with the symmetric difference of the two sets. Print the modified first set.\n"
   ]
  },
  {
   "cell_type": "code",
   "execution_count": null,
   "id": "bc154ecb",
   "metadata": {},
   "outputs": [
    {
     "name": "stdout",
     "output_type": "stream",
     "text": [
      "{1, 2, 3, 4, 5}\n",
      "{2, 4, 6, 8, 10}\n",
      "{1, 3, 5, 6, 8, 10}\n"
     ]
    }
   ],
   "source": [
    "s1 = set(range(1,6))\n",
    "s2 = set([num for num in range(1,11) if num % 2 == 0])\n",
    "print(s1)\n",
    "print(s2)\n",
    "symm_diff = s1.symmetric_difference(s2)\n",
    "print(symm_diff)\n",
    "s1.symmetric_difference_update(s2)"
   ]
  },
  {
   "cell_type": "markdown",
   "id": "1690ea11",
   "metadata": {},
   "source": [
    "### Assignment 14: Set Membership Testing\n",
    "\n",
    "Create a set and test if certain elements are present in the set. Print the results."
   ]
  },
  {
   "cell_type": "code",
   "execution_count": 71,
   "id": "baaecb76",
   "metadata": {},
   "outputs": [
    {
     "name": "stdout",
     "output_type": "stream",
     "text": [
      "True\n",
      "False\n"
     ]
    }
   ],
   "source": [
    "set_num = set(range(1,11))\n",
    "print(4 in set_num)\n",
    "print(14 in set_num)"
   ]
  },
  {
   "cell_type": "markdown",
   "id": "dbd791cf",
   "metadata": {},
   "source": [
    "### Assignment 15: Set of Tuples\n",
    "\n",
    "Create a set containing tuples, where each tuple contains two elements. Print the set."
   ]
  },
  {
   "cell_type": "code",
   "execution_count": 73,
   "id": "6bc852f9",
   "metadata": {},
   "outputs": [
    {
     "name": "stdout",
     "output_type": "stream",
     "text": [
      "{(9, 10), (7, 8), (3, 6)}\n"
     ]
    }
   ],
   "source": [
    "s = {\n",
    "    (3, 6),\n",
    "    (7, 8),\n",
    "    (9, 10)\n",
    "}\n",
    "print(s)"
   ]
  }
 ],
 "metadata": {
  "kernelspec": {
   "display_name": "Python 3",
   "language": "python",
   "name": "python3"
  },
  "language_info": {
   "codemirror_mode": {
    "name": "ipython",
    "version": 3
   },
   "file_extension": ".py",
   "mimetype": "text/x-python",
   "name": "python",
   "nbconvert_exporter": "python",
   "pygments_lexer": "ipython3",
   "version": "3.12.3"
  }
 },
 "nbformat": 4,
 "nbformat_minor": 5
}
